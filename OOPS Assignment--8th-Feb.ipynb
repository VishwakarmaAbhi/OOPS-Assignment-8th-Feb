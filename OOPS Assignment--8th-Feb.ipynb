{
 "cells": [
  {
   "cell_type": "markdown",
   "id": "0ae3a9de-9859-4f25-a684-6a6f870045a7",
   "metadata": {},
   "source": [
    "Q1. What is Abstraction in OOps? Explain with an example."
   ]
  },
  {
   "cell_type": "markdown",
   "id": "7b6ff996-8c8e-4abb-81e8-f2141aef7e0e",
   "metadata": {},
   "source": [
    "Answer: Abstraction is a fundamental concept in object-oriented programming (OOP) that focuses on hiding the implementation details of a class while exposing only the essential features or functionalities to the outside world. It allows the user to interact with the class using a simplified interface without needing to understand the internal complexities.\n",
    "\n",
    "In OOP, abstraction is achieved through the use of abstract classes and interfaces, as well as encapsulation.\n",
    "\n",
    "Here's an example to illustrate abstraction:"
   ]
  },
  {
   "cell_type": "code",
   "execution_count": 1,
   "id": "dfd13af0-de17-432b-8468-54d013c0327b",
   "metadata": {},
   "outputs": [
    {
     "name": "stdout",
     "output_type": "stream",
     "text": [
      "Area of Circle: 78.5\n",
      "Area of Rectangle: 24\n"
     ]
    }
   ],
   "source": [
    "from abc import ABC, abstractmethod\n",
    "\n",
    "# Abstract class representing a Shape\n",
    "class Shape(ABC):\n",
    "    def __init__(self, name):\n",
    "        self.name = name\n",
    "\n",
    "    # Abstract method to calculate area\n",
    "    @abstractmethod\n",
    "    def calculate_area(self):\n",
    "        pass\n",
    "\n",
    "# Concrete class representing a Circle, inheriting from Shape\n",
    "class Circle(Shape):\n",
    "    def __init__(self, name, radius):\n",
    "        super().__init__(name)\n",
    "        self.radius = radius\n",
    "\n",
    "    # Implementation of abstract method to calculate area for Circle\n",
    "    def calculate_area(self):\n",
    "        return 3.14 * self.radius ** 2\n",
    "\n",
    "# Concrete class representing a Rectangle, inheriting from Shape\n",
    "class Rectangle(Shape):\n",
    "    def __init__(self, name, length, breadth):\n",
    "        super().__init__(name)\n",
    "        self.length = length\n",
    "        self.breadth = breadth\n",
    "\n",
    "    # Implementation of abstract method to calculate area for Rectangle\n",
    "    def calculate_area(self):\n",
    "        return self.length * self.breadth\n",
    "\n",
    "# Create instances of Circle and Rectangle\n",
    "circle = Circle(\"Circle\", 5)\n",
    "rectangle = Rectangle(\"Rectangle\", 4, 6)\n",
    "\n",
    "# Calculate area using the abstract method without knowing the internal implementation details\n",
    "print(f\"Area of {circle.name}: {circle.calculate_area()}\")\n",
    "print(f\"Area of {rectangle.name}: {rectangle.calculate_area()}\")\n"
   ]
  },
  {
   "cell_type": "markdown",
   "id": "e4492118-7c76-4fb4-a19f-c580bd3fa966",
   "metadata": {},
   "source": [
    "In this example:\n",
    "\n",
    "* We have an abstract class \"Shape\" representing a generic shape with an abstract method \"calculate_area\".\n",
    "\n",
    "* We have concrete subclasses \"Circle\" and \"Rectangle\" inheriting from the \"Shape\" class and implementing the 'calculate_area\" method.\n",
    "\n",
    "* The user interacts with the \"Circle\" and \"Rectangle\" objects using the \"calculate_area\" method without needing to know how the area calculation is implemented internally for each shape. This demonstrates abstraction, as the user is shielded from the implementation details."
   ]
  },
  {
   "cell_type": "markdown",
   "id": "98199a70-1a3e-407c-92e6-277e67b467e8",
   "metadata": {},
   "source": [
    "Q2. Differentiate between Abstraction and Encapsulation. Explain with an example."
   ]
  },
  {
   "cell_type": "markdown",
   "id": "eda98f89-8561-4f98-8c05-ac775e9497b5",
   "metadata": {},
   "source": [
    "Answer: \n",
    "Abstraction and encapsulation are two important concepts in object-oriented programming, but they serve different purposes:\n",
    "\n",
    "1. Abstraction:\n",
    "* Abstraction focuses on hiding the implementation details of a class while exposing only the essential features or functionalities to the outside world.\n",
    "* It allows the user to interact with the class using a simplified interface without needing to understand the internal complexities.\n",
    "* Abstraction is achieved through the use of abstract classes, interfaces, and abstract methods.\n",
    "* It helps in managing complexity by breaking down a system into smaller, more manageable parts.\n",
    "\n",
    "2. Encapsulation:\n",
    "* Encapsulation is the bundling of data (attributes) and methods (functions) that operate on the data into a single unit, i.e., a class.\n",
    "* It hides the internal state of the object from the outside world and only exposes the necessary functionalities through methods.\n",
    "* Encapsulation helps in protecting the data from unauthorized access or modification by external entities.\n",
    "* It promotes modularity and reusability by allowing the implementation details to be hidden within the class."
   ]
  },
  {
   "cell_type": "code",
   "execution_count": 2,
   "id": "af6c75e0-4519-40a6-b893-040137556993",
   "metadata": {},
   "outputs": [],
   "source": [
    "# Encapsulation example\n",
    "class BankAccount:\n",
    "    def __init__(self, account_number, balance):\n",
    "        self.account_number = account_number\n",
    "        self.balance = balance\n",
    "\n",
    "    def deposit(self, amount):\n",
    "        self.balance += amount\n",
    "\n",
    "    def withdraw(self, amount):\n",
    "        if amount <= self.balance:\n",
    "            self.balance -= amount\n",
    "        else:\n",
    "            print(\"Insufficient funds\")\n",
    "\n",
    "# Abstraction example\n",
    "from abc import ABC, abstractmethod\n",
    "\n",
    "class Shape(ABC):\n",
    "    def __init__(self, name):\n",
    "        self.name = name\n",
    "\n",
    "    @abstractmethod\n",
    "    def calculate_area(self):\n",
    "        pass\n",
    "\n",
    "class Circle(Shape):\n",
    "    def __init__(self, name, radius):\n",
    "        super().__init__(name)\n",
    "        self.radius = radius\n",
    "\n",
    "    def calculate_area(self):\n",
    "        return 3.14 * self.radius ** 2\n",
    "\n",
    "class Rectangle(Shape):\n",
    "    def __init__(self, name, length, breadth):\n",
    "        super().__init__(name)\n",
    "        self.length = length\n",
    "        self.breadth = breadth\n",
    "\n",
    "    def calculate_area(self):\n",
    "        return self.length * self.breadth\n",
    "\n",
    "# In the BankAccount class, encapsulation is demonstrated by bundling the account_number and balance attributes with deposit and withdraw methods.\n",
    "\n",
    "# In the Shape and its subclasses (Circle and Rectangle) example, abstraction is demonstrated by hiding the implementation details of calculating area inside the calculate_area method. Users can interact with the Shape subclasses using this abstract method without needing to know how the area is calculated internally.\n"
   ]
  },
  {
   "cell_type": "markdown",
   "id": "680b27ca-4ae0-4ffc-a542-375f9a698175",
   "metadata": {},
   "source": [
    " In summary, encapsulation is about bundling data and methods into a single unit (class) and controlling access to that unit, while abstraction is about hiding the implementation details and providing a simplified interface to interact with a class."
   ]
  },
  {
   "cell_type": "markdown",
   "id": "a86a8463-ba33-4964-8738-606138915295",
   "metadata": {},
   "source": [
    "Q3. What is abc module in python? Why is it used?"
   ]
  },
  {
   "cell_type": "markdown",
   "id": "4fd1b8f6-17b5-433d-b95e-aeb418801a60",
   "metadata": {},
   "source": [
    "Answer: The \"abc\" module in Python stands for Abstract Base Classes. It provides tools for creating abstract base classes and abstract methods, which can be used to define a common interface for subclasses while enforcing certain behaviors.\n",
    "\n",
    "The \"abc\" module is used for the following purposes:\n",
    "\n",
    "## Defining Abstract Base Classes (ABCs):\n",
    "\n",
    "* Abstract Base Classes are classes that cannot be instantiated directly but serve as a blueprint for other classes.\n",
    "\n",
    "* They define a set of methods that must be implemented by subclasses.\n",
    "\n",
    "* ABCs are useful for creating a common interface or protocol that multiple subclasses can adhere to, ensuring consistent behavior across different implementations.\n",
    "\n",
    "\n",
    "## Defining Abstract Methods:\n",
    "\n",
    "* Abstract methods are methods declared within an abstract base class that must be implemented by concrete subclasses.\n",
    "\n",
    "* They provide a way to define a contract or interface that subclasses must adhere to.\n",
    "\n",
    "* If a subclass fails to implement one or more abstract methods defined in its base class, it will raise an error at runtime.\n",
    "\n",
    "## Enforcing Polymorphism:\n",
    "* Abstract base classes help enforce polymorphism by providing a common interface for different types of objects.\n",
    "\n",
    "* This allows objects of different classes to be treated interchangeably if they share a common set of methods defined in their common abstract base class.\n",
    "\n",
    "\n",
    "The \"abc\" module is particularly useful for designing large and complex object-oriented systems where multiple classes need to adhere to a common interface or protocol. It helps promote code reusability, maintainability, and readability by providing a clear contract between classes and ensuring consistent behavior across implementations."
   ]
  },
  {
   "cell_type": "markdown",
   "id": "f2e4466c-d01b-405b-8704-209eb2504c74",
   "metadata": {},
   "source": [
    "Q4. How can we achieve data abstraction?\n"
   ]
  },
  {
   "cell_type": "markdown",
   "id": "5949f34f-5329-4e1d-a80e-c4030ba347e9",
   "metadata": {},
   "source": [
    "\n",
    "Data abstraction in Python can be achieved through several techniques, including:\n",
    "\n",
    "## 1. Encapsulation:\n",
    "\n",
    "* Encapsulation involves bundling the data (attributes) and methods (functions) that operate on the data into a single unit, i.e., a class.\n",
    "\n",
    "* It hides the internal state of the object from the outside world and only exposes the necessary functionalities through methods.\n",
    "\n",
    "* Encapsulation helps in protecting the data from unauthorized access or modification by external entities.\n",
    "\n",
    "## 2. Abstraction through Classes and Objects:\n",
    "\n",
    "* Classes and objects provide a way to abstract real-world entities and their properties into software components.\n",
    "\n",
    "* Classes define the structure and behavior of objects, while objects represent specific instances of those classes.\n",
    "\n",
    "* By defining classes with appropriate attributes and methods, we can encapsulate the data and expose only the necessary functionalities to the outside world. \n",
    "\n",
    "## 3. Abstract Base Classes (ABCs):\n",
    "\n",
    "* Python's \"abc\" module allows us to define abstract base classes (ABCs) and abstract methods.\n",
    "\n",
    "* Abstract base classes serve as a blueprint for other classes and define a set of methods that must be implemented by subclasses.\n",
    "\n",
    "* By defining abstract methods in base classes, we can enforce a common interface or protocol that subclasses must adhere to.\n",
    "\n",
    "## 4. Access Modifiers:\n",
    "\n",
    "* Python provides access modifiers like public, private, and protected to control access to class members.\n",
    "\n",
    "* Private attributes and methods are prefixed with a double underscore ('__'), and they are not directly accessible outside the class.\n",
    "\n",
    "* Protected attributes and methods are prefixed with a single underscore ('_'), and they can be accessed by subclasses but not by external code.\n",
    "\n",
    "* Public attributes and methods are accessible from outside the class.\n",
    "\n",
    "By utilizing these techniques, we can achieve data abstraction in Python, which involves hiding the implementation details of a class while exposing only the essential features or functionalities to the outside world. This helps in managing complexity, promoting code reusability, and ensuring data integrity.\n",
    "\n",
    "\n",
    "\n",
    "\n"
   ]
  },
  {
   "cell_type": "markdown",
   "id": "3c54f863-6690-41a6-bc63-b26a270a3a88",
   "metadata": {},
   "source": [
    "Q5. Can we create an instance of an abstract class? Explain your answer."
   ]
  },
  {
   "cell_type": "markdown",
   "id": "df200c1c-cb86-4f1a-a350-2343a0216aee",
   "metadata": {},
   "source": [
    "Answer: No, we cannot create an instance of an abstract class directly in Python. Abstract classes are meant to serve as blueprints or templates for other classes and cannot be instantiated because they may contain one or more abstract methods that have not been implemented.\n",
    "\n",
    "Attempting to create an instance of an abstract class will result in a \"TypeError\" being raised."
   ]
  },
  {
   "cell_type": "code",
   "execution_count": 4,
   "id": "5359ade0-b496-4a7a-af48-945078b37049",
   "metadata": {},
   "outputs": [
    {
     "ename": "TypeError",
     "evalue": "Can't instantiate abstract class AbstractClass with abstract method abstract_method",
     "output_type": "error",
     "traceback": [
      "\u001b[0;31m---------------------------------------------------------------------------\u001b[0m",
      "\u001b[0;31mTypeError\u001b[0m                                 Traceback (most recent call last)",
      "Cell \u001b[0;32mIn[4], line 9\u001b[0m\n\u001b[1;32m      6\u001b[0m         \u001b[38;5;28;01mpass\u001b[39;00m\n\u001b[1;32m      8\u001b[0m \u001b[38;5;66;03m# Attempting to create an instance of AbstractClass\u001b[39;00m\n\u001b[0;32m----> 9\u001b[0m instance \u001b[38;5;241m=\u001b[39m \u001b[43mAbstractClass\u001b[49m\u001b[43m(\u001b[49m\u001b[43m)\u001b[49m\n",
      "\u001b[0;31mTypeError\u001b[0m: Can't instantiate abstract class AbstractClass with abstract method abstract_method"
     ]
    }
   ],
   "source": [
    "from abc import ABC, abstractmethod\n",
    "\n",
    "class AbstractClass(ABC):\n",
    "    @abstractmethod\n",
    "    def abstract_method(self):\n",
    "        pass\n",
    "\n",
    "# Attempting to create an instance of AbstractClass\n",
    "instance = AbstractClass()\n"
   ]
  },
  {
   "cell_type": "markdown",
   "id": "d8826044-722a-4384-af34-2268a531f906",
   "metadata": {},
   "source": [
    "This error occurs because the \"AbstractClass\" contains an abstract method \"abstract_method\" that has not been implemented. Since abstract methods are meant to be implemented by subclasses, the abstract class itself cannot be instantiated. Instead, subclasses must provide concrete implementations for all abstract methods before they can be instantiated."
   ]
  },
  {
   "cell_type": "code",
   "execution_count": null,
   "id": "562006f3-e5e9-4295-bf56-68c17bdf3cb3",
   "metadata": {},
   "outputs": [],
   "source": []
  }
 ],
 "metadata": {
  "kernelspec": {
   "display_name": "Python 3 (ipykernel)",
   "language": "python",
   "name": "python3"
  },
  "language_info": {
   "codemirror_mode": {
    "name": "ipython",
    "version": 3
   },
   "file_extension": ".py",
   "mimetype": "text/x-python",
   "name": "python",
   "nbconvert_exporter": "python",
   "pygments_lexer": "ipython3",
   "version": "3.10.8"
  }
 },
 "nbformat": 4,
 "nbformat_minor": 5
}
